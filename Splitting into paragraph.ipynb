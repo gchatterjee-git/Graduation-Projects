{
 "cells": [
  {
   "cell_type": "markdown",
   "metadata": {},
   "source": [
    "## Problem Statement\n",
    "To read all the text files from a directory, split each file on paragraph basis and save each paragraph into a new file. "
   ]
  },
  {
   "cell_type": "markdown",
   "metadata": {},
   "source": [
    "## Sample Example:\n",
    "#### Input FileName: Text.txt\n",
    "#### (Content of the file is below)\n",
    "\n",
    "##### Author: Robert Frost\n",
    "##### Date: 01/01/1916\n",
    "\n",
    "Text:\n",
    "And sorry I could not travel both\n",
    "And be one traveler, long I stood\n",
    "And looked down one as far as I could\n",
    "To where it bent in the undergrowth;\n",
    "\n",
    "Then took the other, as just as fair,\n",
    "And having perhaps the better claim,\n",
    "Because it was grassy and wanted wear;\n",
    "Though as for that the passing there\n",
    "Had worn them really about the same,\n",
    "\n",
    "And both that morning equally lay\n",
    "In leaves no step had trodden black.\n",
    "Oh, I kept the first for another day!\n",
    "Yet knowing how way leads on to way,\n",
    "I doubted if I should ever come back.\n",
    "\n",
    "I shall be telling this with a sigh\n",
    "Somewhere ages and ages hence:\n",
    "Two roads diverged in a wood, and I—\n",
    "I took the one less traveled by,\n",
    "And that has made all the difference.\n",
    "\n",
    "\n",
    "#### Ouput FileName: Text_1.txt, Text_2.txt, Text_3.txt, Text_4.txt\n",
    "\n",
    "##### Text_1.txt content :\n",
    "And sorry I could not travel both\n",
    "And be one traveler, long I stood\n",
    "And looked down one as far as I could\n",
    "To where it bent in the undergrowth;\n",
    "\n",
    "##### Text_2.txt content:\n",
    "Then took the other, as just as fair,\n",
    "And having perhaps the better claim,\n",
    "Because it was grassy and wanted wear;\n",
    "Though as for that the passing there\n",
    "Had worn them really about the same,\n",
    "\n",
    "##### Text_3.txt content:\n",
    "And both that morning equally lay\n",
    "In leaves no step had trodden black.\n",
    "Oh, I kept the first for another day!\n",
    "Yet knowing how way leads on to way,\n",
    "I doubted if I should ever come back.\n",
    "\n",
    "##### Text_4.txt content:\n",
    "I shall be telling this with a sigh\n",
    "Somewhere ages and ages hence:\n",
    "Two roads diverged in a wood, and I—\n",
    "I took the one less traveled by,\n",
    "And that has made all the difference."
   ]
  },
  {
   "cell_type": "markdown",
   "metadata": {},
   "source": [
    "## How script works ?\n",
    "The function takes the path where the files to be splitted are located."
   ]
  },
  {
   "cell_type": "code",
   "execution_count": null,
   "metadata": {},
   "outputs": [],
   "source": [
    "import glob\n",
    "import os\n",
    "def splitting_file_by_para(path):\n",
    "    \n",
    "    '''This function splits the text files into paragraphs and then saves the paragraphs in a different file with naming \n",
    "    convention as \"filename_1.txt\",\"filename_2.txt\" and so on. Function takes a string variable as input which has the path \n",
    "    of the directory where the files to be splitted are located'''\n",
    "    \n",
    "    for filename in glob.glob(os.path.join(path,'*.txt')):\n",
    "        art_file=filename.split('.')[0]\n",
    "        print(art_file)\n",
    "        with_extension_file=art_file+\".txt\"\n",
    "        with open(filename,encoding='utf-8',errors='ignore') as f: ## opens the file and starts reading \n",
    "                                                                   ##after the keyword \"Text:\"\n",
    "            for line in f:\n",
    "                if 'Text:' in line:\n",
    "                    break\n",
    "            lines = f.read()\n",
    "        tests = lines.split(\"\\n\\n\")                                ## splits the file as soon as it encounters 2 return carriages\n",
    "        for i in range(len(tests)):\n",
    "            final_text=[]\n",
    "            final_text.append(tests[i].replace('\\n',' '))\n",
    "            file_name=art_file+\"_\"+str(i)+\".txt\"\n",
    "            with open(file_name,\"w\") as outfile:                   ## creates an output file and writes each paragraph \n",
    "                outfile.write(final_text[0])                       ##in different files\n",
    "    return(\"Success\")"
   ]
  },
  {
   "cell_type": "code",
   "execution_count": null,
   "metadata": {},
   "outputs": [],
   "source": [
    "## replace the content of list to your local path in the system\n",
    "os_path=['local/path/in/system','local/path/in/system'] \n",
    "for i in range(len(os_path)):\n",
    "    print(splitting_file_by_para(os_path[i]))"
   ]
  },
  {
   "cell_type": "code",
   "execution_count": null,
   "metadata": {},
   "outputs": [],
   "source": []
  }
 ],
 "metadata": {
  "kernelspec": {
   "display_name": "Python 3",
   "language": "python",
   "name": "python3"
  },
  "language_info": {
   "codemirror_mode": {
    "name": "ipython",
    "version": 3
   },
   "file_extension": ".py",
   "mimetype": "text/x-python",
   "name": "python",
   "nbconvert_exporter": "python",
   "pygments_lexer": "ipython3",
   "version": "3.6.5"
  }
 },
 "nbformat": 4,
 "nbformat_minor": 2
}
